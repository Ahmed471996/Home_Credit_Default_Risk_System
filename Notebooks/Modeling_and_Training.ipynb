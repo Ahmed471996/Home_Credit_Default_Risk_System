{
  "nbformat": 4,
  "nbformat_minor": 0,
  "metadata": {
    "colab": {
      "provenance": [],
      "collapsed_sections": [
        "bXwS3OB-aTxQ",
        "tOYl32JKm72u",
        "UclCcp1NSSOd",
        "0MmQCGkYnG4O",
        "w4rChZGFR6kU",
        "cDJsTISOSKME",
        "9MKRPXKZJWHE",
        "9XGdf8UJdHtP",
        "nVISYoo8SoUc"
      ]
    },
    "kernelspec": {
      "name": "python3",
      "display_name": "Python 3"
    },
    "language_info": {
      "name": "python"
    },
    "accelerator": "GPU",
    "gpuClass": "standard"
  },
  "cells": [
    {
      "cell_type": "markdown",
      "source": [
        "## **Import Libraries** "
      ],
      "metadata": {
        "id": "EnRE-Jylmzhl"
      }
    },
    {
      "cell_type": "code",
      "source": [
        "import pandas as pd \n",
        "import numpy as np\n",
        "import plotly.express as px\n",
        "import matplotlib.pyplot as plt\n",
        "\n",
        "from sklearn.preprocessing import LabelEncoder\n",
        "from sklearn.model_selection import train_test_split\n",
        "from xgboost import XGBClassifier\n",
        "from lightgbm import LGBMClassifier\n",
        "from sklearn.metrics import roc_auc_score, roc_curve\n",
        "from sklearn.model_selection import KFold, StratifiedKFold\n",
        "from sklearn.impute import SimpleImputer\n",
        "\n",
        "import os  \n",
        "import gc\n",
        "\n",
        "from google.colab import drive"
      ],
      "metadata": {
        "id": "Eq-x-gfGPVwY"
      },
      "execution_count": 1,
      "outputs": []
    },
    {
      "cell_type": "markdown",
      "source": [
        "## **Functions**"
      ],
      "metadata": {
        "id": "bXwS3OB-aTxQ"
      }
    },
    {
      "cell_type": "code",
      "source": [
        "def reduce_memory_usage(df):\n",
        "    '''\n",
        "        This function reduces the memory usage of the dataframes '''\n",
        "  \n",
        "    start_mem = df.memory_usage().sum() / 1024**2\n",
        "    print('Memory usage of dataframe is {:.2f} MB'.format(start_mem))\n",
        "    \n",
        "    for col in df.columns:\n",
        "        col_type = df[col].dtype\n",
        "        \n",
        "        if col_type != object:\n",
        "            c_min = df[col].min()\n",
        "            c_max = df[col].max()\n",
        "            if str(col_type)[:3] == 'int':\n",
        "                if c_min > np.iinfo(np.int8).min and c_max < np.iinfo(np.int8).max:\n",
        "                    df[col] = df[col].astype(np.int8)\n",
        "                elif c_min > np.iinfo(np.int16).min and c_max < np.iinfo(np.int16).max:\n",
        "                    df[col] = df[col].astype(np.int16)\n",
        "                elif c_min > np.iinfo(np.int32).min and c_max < np.iinfo(np.int32).max:\n",
        "                    df[col] = df[col].astype(np.int32)\n",
        "                elif c_min > np.iinfo(np.int64).min and c_max < np.iinfo(np.int64).max:\n",
        "                    df[col] = df[col].astype(np.int64)  \n",
        "            else:\n",
        "                if c_min > np.finfo(np.float16).min and c_max < np.finfo(np.float16).max:\n",
        "                    df[col] = df[col].astype(np.float16)\n",
        "                elif c_min > np.finfo(np.float32).min and c_max < np.finfo(np.float32).max:\n",
        "                    df[col] = df[col].astype(np.float32)\n",
        "                else:\n",
        "                    df[col] = df[col].astype(np.float64)\n",
        "\n",
        "    end_mem = df.memory_usage().sum() / 1024**2\n",
        "    print('Memory usage after optimization is: {:.2f} MB'.format(end_mem))\n",
        "    print('Decreased by {:.1f}%'.format(100 * (start_mem - end_mem) / start_mem))\n",
        "    \n",
        "    return df"
      ],
      "metadata": {
        "id": "MDYwWB-8aT3v"
      },
      "execution_count": 2,
      "outputs": []
    },
    {
      "cell_type": "markdown",
      "source": [
        "## **Reading Data** "
      ],
      "metadata": {
        "id": "tOYl32JKm72u"
      }
    },
    {
      "cell_type": "code",
      "source": [
        "drive.mount('/content/gdrive')"
      ],
      "metadata": {
        "colab": {
          "base_uri": "https://localhost:8080/"
        },
        "id": "b4Yz9k8MMkWt",
        "outputId": "d0ff1f18-5ecf-434b-9d2f-0b474e664800"
      },
      "execution_count": 3,
      "outputs": [
        {
          "output_type": "stream",
          "name": "stdout",
          "text": [
            "Mounted at /content/gdrive\n"
          ]
        }
      ]
    },
    {
      "cell_type": "code",
      "source": [
        "df = reduce_memory_usage(pd.read_csv('/content/gdrive/MyDrive/Home_Credit_Default_Risk/df_cleaned.csv'))\n",
        "df.head()"
      ],
      "metadata": {
        "colab": {
          "base_uri": "https://localhost:8080/",
          "height": 0
        },
        "outputId": "f050ec76-4187-4991-dadd-86f2c0b2f93c",
        "id": "hnLoil03owrL"
      },
      "execution_count": 4,
      "outputs": [
        {
          "output_type": "stream",
          "name": "stdout",
          "text": [
            "Memory usage of dataframe is 478.59 MB\n",
            "Memory usage after optimization is: 147.21 MB\n",
            "Decreased by 69.2%\n"
          ]
        },
        {
          "output_type": "execute_result",
          "data": {
            "text/plain": [
              "   index  SK_ID_CURR  TARGET  NAME_CONTRACT_TYPE  CODE_GENDER  FLAG_OWN_CAR  \\\n",
              "0    0.0    100002.0     1.0                 0.0          0.0           0.0   \n",
              "1    1.0    100003.0     0.0                 0.0          1.0           0.0   \n",
              "2    2.0    100004.0     0.0                 1.0          0.0           1.0   \n",
              "3    3.0    100006.0     0.0                 0.0          1.0           0.0   \n",
              "4    4.0    100007.0     0.0                 0.0          0.0           0.0   \n",
              "\n",
              "   AMT_INCOME_TOTAL  AMT_CREDIT  AMT_ANNUITY  AMT_GOODS_PRICE  ...  \\\n",
              "0          202500.0    406597.5      24700.5         351000.0  ...   \n",
              "1          270000.0   1293502.5      35698.5        1129500.0  ...   \n",
              "2           67500.0    135000.0       6750.0         135000.0  ...   \n",
              "3          135000.0    312682.5      29686.5         297000.0  ...   \n",
              "4          121500.0    513000.0      21865.5         513000.0  ...   \n",
              "\n",
              "   CLOSED_AMT_CREDIT_SUM_DEBT_MEAN  CLOSED_AMT_CREDIT_SUM_DEBT_SUM  \\\n",
              "0                          0.00000                        0.000000   \n",
              "1                          0.00000                        0.000000   \n",
              "2                          0.00000                        0.000000   \n",
              "3                       2739.62793                     9328.423828   \n",
              "4                          0.00000                        0.000000   \n",
              "\n",
              "   CLOSED_AMT_CREDIT_SUM_OVERDUE_MEAN  CLOSED_AMT_CREDIT_SUM_LIMIT_MEAN  \\\n",
              "0                            0.000000                          0.000000   \n",
              "1                            0.000000                          0.000000   \n",
              "2                            0.000000                          0.000000   \n",
              "3                            3.859963                       1089.433228   \n",
              "4                            0.000000                          0.000000   \n",
              "\n",
              "   CLOSED_AMT_CREDIT_SUM_LIMIT_SUM  CLOSED_CNT_CREDIT_PROLONG_SUM  \\\n",
              "0                          0.00000                       0.000000   \n",
              "1                          0.00000                       0.000000   \n",
              "2                          0.00000                       0.000000   \n",
              "3                       3677.14209                       0.017029   \n",
              "4                          0.00000                       0.000000   \n",
              "\n",
              "   CLOSED_MONTHS_BALANCE_MIN_MIN  CLOSED_MONTHS_BALANCE_MAX_MAX  \\\n",
              "0                      -47.00000                       0.000000   \n",
              "1                      -59.96875                      -3.605469   \n",
              "2                      -59.96875                      -3.605469   \n",
              "3                      -59.96875                      -3.605469   \n",
              "4                      -59.96875                      -3.605469   \n",
              "\n",
              "   CLOSED_MONTHS_BALANCE_SIZE_MEAN  CLOSED_MONTHS_BALANCE_SIZE_SUM  \n",
              "0                         15.00000                        90.00000  \n",
              "1                         33.46875                         0.00000  \n",
              "2                         33.46875                         0.00000  \n",
              "3                         33.46875                        48.28125  \n",
              "4                         33.46875                         0.00000  \n",
              "\n",
              "[5 rows x 204 columns]"
            ],
            "text/html": [
              "\n",
              "  <div id=\"df-d95c2532-4931-4002-a39a-709389c9ab97\">\n",
              "    <div class=\"colab-df-container\">\n",
              "      <div>\n",
              "<style scoped>\n",
              "    .dataframe tbody tr th:only-of-type {\n",
              "        vertical-align: middle;\n",
              "    }\n",
              "\n",
              "    .dataframe tbody tr th {\n",
              "        vertical-align: top;\n",
              "    }\n",
              "\n",
              "    .dataframe thead th {\n",
              "        text-align: right;\n",
              "    }\n",
              "</style>\n",
              "<table border=\"1\" class=\"dataframe\">\n",
              "  <thead>\n",
              "    <tr style=\"text-align: right;\">\n",
              "      <th></th>\n",
              "      <th>index</th>\n",
              "      <th>SK_ID_CURR</th>\n",
              "      <th>TARGET</th>\n",
              "      <th>NAME_CONTRACT_TYPE</th>\n",
              "      <th>CODE_GENDER</th>\n",
              "      <th>FLAG_OWN_CAR</th>\n",
              "      <th>AMT_INCOME_TOTAL</th>\n",
              "      <th>AMT_CREDIT</th>\n",
              "      <th>AMT_ANNUITY</th>\n",
              "      <th>AMT_GOODS_PRICE</th>\n",
              "      <th>...</th>\n",
              "      <th>CLOSED_AMT_CREDIT_SUM_DEBT_MEAN</th>\n",
              "      <th>CLOSED_AMT_CREDIT_SUM_DEBT_SUM</th>\n",
              "      <th>CLOSED_AMT_CREDIT_SUM_OVERDUE_MEAN</th>\n",
              "      <th>CLOSED_AMT_CREDIT_SUM_LIMIT_MEAN</th>\n",
              "      <th>CLOSED_AMT_CREDIT_SUM_LIMIT_SUM</th>\n",
              "      <th>CLOSED_CNT_CREDIT_PROLONG_SUM</th>\n",
              "      <th>CLOSED_MONTHS_BALANCE_MIN_MIN</th>\n",
              "      <th>CLOSED_MONTHS_BALANCE_MAX_MAX</th>\n",
              "      <th>CLOSED_MONTHS_BALANCE_SIZE_MEAN</th>\n",
              "      <th>CLOSED_MONTHS_BALANCE_SIZE_SUM</th>\n",
              "    </tr>\n",
              "  </thead>\n",
              "  <tbody>\n",
              "    <tr>\n",
              "      <th>0</th>\n",
              "      <td>0.0</td>\n",
              "      <td>100002.0</td>\n",
              "      <td>1.0</td>\n",
              "      <td>0.0</td>\n",
              "      <td>0.0</td>\n",
              "      <td>0.0</td>\n",
              "      <td>202500.0</td>\n",
              "      <td>406597.5</td>\n",
              "      <td>24700.5</td>\n",
              "      <td>351000.0</td>\n",
              "      <td>...</td>\n",
              "      <td>0.00000</td>\n",
              "      <td>0.000000</td>\n",
              "      <td>0.000000</td>\n",
              "      <td>0.000000</td>\n",
              "      <td>0.00000</td>\n",
              "      <td>0.000000</td>\n",
              "      <td>-47.00000</td>\n",
              "      <td>0.000000</td>\n",
              "      <td>15.00000</td>\n",
              "      <td>90.00000</td>\n",
              "    </tr>\n",
              "    <tr>\n",
              "      <th>1</th>\n",
              "      <td>1.0</td>\n",
              "      <td>100003.0</td>\n",
              "      <td>0.0</td>\n",
              "      <td>0.0</td>\n",
              "      <td>1.0</td>\n",
              "      <td>0.0</td>\n",
              "      <td>270000.0</td>\n",
              "      <td>1293502.5</td>\n",
              "      <td>35698.5</td>\n",
              "      <td>1129500.0</td>\n",
              "      <td>...</td>\n",
              "      <td>0.00000</td>\n",
              "      <td>0.000000</td>\n",
              "      <td>0.000000</td>\n",
              "      <td>0.000000</td>\n",
              "      <td>0.00000</td>\n",
              "      <td>0.000000</td>\n",
              "      <td>-59.96875</td>\n",
              "      <td>-3.605469</td>\n",
              "      <td>33.46875</td>\n",
              "      <td>0.00000</td>\n",
              "    </tr>\n",
              "    <tr>\n",
              "      <th>2</th>\n",
              "      <td>2.0</td>\n",
              "      <td>100004.0</td>\n",
              "      <td>0.0</td>\n",
              "      <td>1.0</td>\n",
              "      <td>0.0</td>\n",
              "      <td>1.0</td>\n",
              "      <td>67500.0</td>\n",
              "      <td>135000.0</td>\n",
              "      <td>6750.0</td>\n",
              "      <td>135000.0</td>\n",
              "      <td>...</td>\n",
              "      <td>0.00000</td>\n",
              "      <td>0.000000</td>\n",
              "      <td>0.000000</td>\n",
              "      <td>0.000000</td>\n",
              "      <td>0.00000</td>\n",
              "      <td>0.000000</td>\n",
              "      <td>-59.96875</td>\n",
              "      <td>-3.605469</td>\n",
              "      <td>33.46875</td>\n",
              "      <td>0.00000</td>\n",
              "    </tr>\n",
              "    <tr>\n",
              "      <th>3</th>\n",
              "      <td>3.0</td>\n",
              "      <td>100006.0</td>\n",
              "      <td>0.0</td>\n",
              "      <td>0.0</td>\n",
              "      <td>1.0</td>\n",
              "      <td>0.0</td>\n",
              "      <td>135000.0</td>\n",
              "      <td>312682.5</td>\n",
              "      <td>29686.5</td>\n",
              "      <td>297000.0</td>\n",
              "      <td>...</td>\n",
              "      <td>2739.62793</td>\n",
              "      <td>9328.423828</td>\n",
              "      <td>3.859963</td>\n",
              "      <td>1089.433228</td>\n",
              "      <td>3677.14209</td>\n",
              "      <td>0.017029</td>\n",
              "      <td>-59.96875</td>\n",
              "      <td>-3.605469</td>\n",
              "      <td>33.46875</td>\n",
              "      <td>48.28125</td>\n",
              "    </tr>\n",
              "    <tr>\n",
              "      <th>4</th>\n",
              "      <td>4.0</td>\n",
              "      <td>100007.0</td>\n",
              "      <td>0.0</td>\n",
              "      <td>0.0</td>\n",
              "      <td>0.0</td>\n",
              "      <td>0.0</td>\n",
              "      <td>121500.0</td>\n",
              "      <td>513000.0</td>\n",
              "      <td>21865.5</td>\n",
              "      <td>513000.0</td>\n",
              "      <td>...</td>\n",
              "      <td>0.00000</td>\n",
              "      <td>0.000000</td>\n",
              "      <td>0.000000</td>\n",
              "      <td>0.000000</td>\n",
              "      <td>0.00000</td>\n",
              "      <td>0.000000</td>\n",
              "      <td>-59.96875</td>\n",
              "      <td>-3.605469</td>\n",
              "      <td>33.46875</td>\n",
              "      <td>0.00000</td>\n",
              "    </tr>\n",
              "  </tbody>\n",
              "</table>\n",
              "<p>5 rows × 204 columns</p>\n",
              "</div>\n",
              "      <button class=\"colab-df-convert\" onclick=\"convertToInteractive('df-d95c2532-4931-4002-a39a-709389c9ab97')\"\n",
              "              title=\"Convert this dataframe to an interactive table.\"\n",
              "              style=\"display:none;\">\n",
              "        \n",
              "  <svg xmlns=\"http://www.w3.org/2000/svg\" height=\"24px\"viewBox=\"0 0 24 24\"\n",
              "       width=\"24px\">\n",
              "    <path d=\"M0 0h24v24H0V0z\" fill=\"none\"/>\n",
              "    <path d=\"M18.56 5.44l.94 2.06.94-2.06 2.06-.94-2.06-.94-.94-2.06-.94 2.06-2.06.94zm-11 1L8.5 8.5l.94-2.06 2.06-.94-2.06-.94L8.5 2.5l-.94 2.06-2.06.94zm10 10l.94 2.06.94-2.06 2.06-.94-2.06-.94-.94-2.06-.94 2.06-2.06.94z\"/><path d=\"M17.41 7.96l-1.37-1.37c-.4-.4-.92-.59-1.43-.59-.52 0-1.04.2-1.43.59L10.3 9.45l-7.72 7.72c-.78.78-.78 2.05 0 2.83L4 21.41c.39.39.9.59 1.41.59.51 0 1.02-.2 1.41-.59l7.78-7.78 2.81-2.81c.8-.78.8-2.07 0-2.86zM5.41 20L4 18.59l7.72-7.72 1.47 1.35L5.41 20z\"/>\n",
              "  </svg>\n",
              "      </button>\n",
              "      \n",
              "  <style>\n",
              "    .colab-df-container {\n",
              "      display:flex;\n",
              "      flex-wrap:wrap;\n",
              "      gap: 12px;\n",
              "    }\n",
              "\n",
              "    .colab-df-convert {\n",
              "      background-color: #E8F0FE;\n",
              "      border: none;\n",
              "      border-radius: 50%;\n",
              "      cursor: pointer;\n",
              "      display: none;\n",
              "      fill: #1967D2;\n",
              "      height: 32px;\n",
              "      padding: 0 0 0 0;\n",
              "      width: 32px;\n",
              "    }\n",
              "\n",
              "    .colab-df-convert:hover {\n",
              "      background-color: #E2EBFA;\n",
              "      box-shadow: 0px 1px 2px rgba(60, 64, 67, 0.3), 0px 1px 3px 1px rgba(60, 64, 67, 0.15);\n",
              "      fill: #174EA6;\n",
              "    }\n",
              "\n",
              "    [theme=dark] .colab-df-convert {\n",
              "      background-color: #3B4455;\n",
              "      fill: #D2E3FC;\n",
              "    }\n",
              "\n",
              "    [theme=dark] .colab-df-convert:hover {\n",
              "      background-color: #434B5C;\n",
              "      box-shadow: 0px 1px 3px 1px rgba(0, 0, 0, 0.15);\n",
              "      filter: drop-shadow(0px 1px 2px rgba(0, 0, 0, 0.3));\n",
              "      fill: #FFFFFF;\n",
              "    }\n",
              "  </style>\n",
              "\n",
              "      <script>\n",
              "        const buttonEl =\n",
              "          document.querySelector('#df-d95c2532-4931-4002-a39a-709389c9ab97 button.colab-df-convert');\n",
              "        buttonEl.style.display =\n",
              "          google.colab.kernel.accessAllowed ? 'block' : 'none';\n",
              "\n",
              "        async function convertToInteractive(key) {\n",
              "          const element = document.querySelector('#df-d95c2532-4931-4002-a39a-709389c9ab97');\n",
              "          const dataTable =\n",
              "            await google.colab.kernel.invokeFunction('convertToInteractive',\n",
              "                                                     [key], {});\n",
              "          if (!dataTable) return;\n",
              "\n",
              "          const docLinkHtml = 'Like what you see? Visit the ' +\n",
              "            '<a target=\"_blank\" href=https://colab.research.google.com/notebooks/data_table.ipynb>data table notebook</a>'\n",
              "            + ' to learn more about interactive tables.';\n",
              "          element.innerHTML = '';\n",
              "          dataTable['output_type'] = 'display_data';\n",
              "          await google.colab.output.renderOutput(dataTable, element);\n",
              "          const docLink = document.createElement('div');\n",
              "          docLink.innerHTML = docLinkHtml;\n",
              "          element.appendChild(docLink);\n",
              "        }\n",
              "      </script>\n",
              "    </div>\n",
              "  </div>\n",
              "  "
            ]
          },
          "metadata": {},
          "execution_count": 4
        }
      ]
    },
    {
      "cell_type": "markdown",
      "source": [
        "## **Metric Selection** "
      ],
      "metadata": {
        "id": "UclCcp1NSSOd"
      }
    },
    {
      "cell_type": "markdown",
      "source": [
        "**ROC_AUC Score**: \n",
        "\n",
        "In this particular Kaggle Competition, note that the ROC_AUC Score is the performance metric that has been chosen to be optimised by the organisers. An ROC Curve is insensitive to class imbalance and the ROC Curve is the most commonly used method to visualise the performance of a Binary Classifier (plotting for the True Positive Rate and False Positive Rate Values for a particular threshold). The ROC_AUC Score is one of the best ways to summarise the model performance in a single number. The higher this score, better is the model performance. "
      ],
      "metadata": {
        "id": "2rTjgHVF0Rsd"
      }
    },
    {
      "cell_type": "markdown",
      "source": [
        "## **Model Selection** "
      ],
      "metadata": {
        "id": "0MmQCGkYnG4O"
      }
    },
    {
      "cell_type": "markdown",
      "source": [],
      "metadata": {
        "id": "b9GlLSXyOGsk"
      }
    },
    {
      "cell_type": "markdown",
      "source": [
        "## **Model Training** "
      ],
      "metadata": {
        "id": "Gj4dld2ER2Rc"
      }
    },
    {
      "cell_type": "markdown",
      "source": [
        "### **1. LightGBM Model**"
      ],
      "metadata": {
        "id": "q7QY_g3YMxXt"
      }
    },
    {
      "cell_type": "code",
      "source": [
        "# Parameters from Tilii kernel: \n",
        "def kfold_lightgbm(df, num_folds, stratified = True):\n",
        "    # Divide in training/validation and test data\n",
        "    train_df = df.iloc[0:300000]\n",
        "    test_df = df.iloc[300000:]\n",
        "    print(\"Starting LightGBM. Train shape: {}, test shape: {}\".format(train_df.shape, test_df.shape))\n",
        "    del df\n",
        "    gc.collect()\n",
        "    # Cross validation model\n",
        "    if stratified:\n",
        "        folds = StratifiedKFold(n_splits= num_folds, shuffle=True, random_state=1001)\n",
        "    else:\n",
        "        folds = KFold(n_splits= num_folds, shuffle=True, random_state=1001)\n",
        "    # Create arrays and dataframes to store results\n",
        "    oof_preds = np.zeros(train_df.shape[0])\n",
        "    sub_preds = np.zeros(test_df.shape[0])\n",
        "    feature_importance_df = pd.DataFrame()\n",
        "    feats = [f for f in train_df.columns if f not in ['TARGET','SK_ID_CURR','SK_ID_BUREAU','SK_ID_PREV','index']]\n",
        "    \n",
        "    for n_fold, (train_idx, valid_idx) in enumerate(folds.split(train_df[feats], train_df['TARGET'])):\n",
        "        train_x, train_y = train_df[feats].iloc[train_idx], train_df['TARGET'].iloc[train_idx]\n",
        "        valid_x, valid_y = train_df[feats].iloc[valid_idx], train_df['TARGET'].iloc[valid_idx]\n",
        "\n",
        "        # LightGBM parameters found by Bayesian optimization\n",
        "        clf = LGBMClassifier(\n",
        "            nthread=4,\n",
        "            n_estimators=10000,\n",
        "            learning_rate=0.02,\n",
        "            num_leaves=34,\n",
        "            colsample_bytree=0.9497036,\n",
        "            subsample=0.8715623,\n",
        "            max_depth=8,\n",
        "            reg_alpha=0.041545473,\n",
        "            reg_lambda=0.0735294,\n",
        "            min_split_gain=0.0222415,\n",
        "            min_child_weight=39.3259775,\n",
        "            silent=-1,\n",
        "            verbose=-1, )\n",
        "\n",
        "        clf.fit(train_x, train_y, eval_set=[(train_x, train_y), (valid_x, valid_y)], \n",
        "            eval_metric= 'auc', verbose= 200, early_stopping_rounds= 200)\n",
        "\n",
        "        oof_preds[valid_idx] = clf.predict_proba(valid_x, num_iteration=clf.best_iteration_)[:, 1]\n",
        "        sub_preds += clf.predict_proba(test_df[feats], num_iteration=clf.best_iteration_)[:, 1] / folds.n_splits\n",
        "\n",
        "        fold_importance_df = pd.DataFrame()\n",
        "        fold_importance_df[\"feature\"] = feats\n",
        "        fold_importance_df[\"importance\"] = clf.feature_importances_\n",
        "        fold_importance_df[\"fold\"] = n_fold + 1\n",
        "        feature_importance_df = pd.concat([feature_importance_df, fold_importance_df], axis=0)\n",
        "        print('Fold %2d AUC : %.6f' % (n_fold + 1, roc_auc_score(valid_y, oof_preds[valid_idx])))\n",
        "        del clf, train_x, train_y, valid_x, valid_y\n",
        "        gc.collect()\n",
        "\n",
        "    print('Full AUC score %.6f' % roc_auc_score(train_df['TARGET'], oof_preds))\n",
        "    display_importances(feature_importance_df)\n",
        "    return feature_importance_df\n",
        "\n",
        "# Display/plot feature importance\n",
        "def display_importances(feature_importance_df_):\n",
        "    cols = feature_importance_df_[[\"feature\", \"importance\"]].groupby(\"feature\").mean().sort_values(by=\"importance\", ascending=False)[:40].index\n",
        "    best_features = feature_importance_df_.loc[feature_importance_df_.feature.isin(cols)]\n",
        "    plt.figure(figsize=(8, 10))\n",
        "    sns.barplot(x=\"importance\", y=\"feature\", data=best_features.sort_values(by=\"importance\", ascending=False))\n",
        "    plt.title('LightGBM Features (avg over folds)')\n",
        "    plt.tight_layout()\n",
        "    plt.savefig('lgbm_importances01.png')"
      ],
      "metadata": {
        "id": "4inTnGLQR5uE"
      },
      "execution_count": 7,
      "outputs": []
    },
    {
      "cell_type": "code",
      "source": [
        "feat_importance = kfold_lightgbm(df, num_folds= 5, stratified= True)"
      ],
      "metadata": {
        "id": "75EBeNwDR5wk",
        "colab": {
          "base_uri": "https://localhost:8080/",
          "height": 1000
        },
        "outputId": "86bb6598-ff5b-4c1e-876a-736942a2f363"
      },
      "execution_count": 8,
      "outputs": [
        {
          "output_type": "stream",
          "name": "stdout",
          "text": [
            "Starting LightGBM. Train shape: (300000, 204), test shape: (7501, 204)\n",
            "Training until validation scores don't improve for 200 rounds.\n",
            "[200]\ttraining's binary_logloss: 0.239358\ttraining's auc: 0.782134\tvalid_1's binary_logloss: 0.244746\tvalid_1's auc: 0.762404\n",
            "[400]\ttraining's binary_logloss: 0.231684\ttraining's auc: 0.803516\tvalid_1's binary_logloss: 0.241833\tvalid_1's auc: 0.771227\n",
            "[600]\ttraining's binary_logloss: 0.226339\ttraining's auc: 0.818476\tvalid_1's binary_logloss: 0.240621\tvalid_1's auc: 0.775026\n",
            "[800]\ttraining's binary_logloss: 0.222103\ttraining's auc: 0.830138\tvalid_1's binary_logloss: 0.240184\tvalid_1's auc: 0.776288\n",
            "[1000]\ttraining's binary_logloss: 0.218126\ttraining's auc: 0.840795\tvalid_1's binary_logloss: 0.239901\tvalid_1's auc: 0.777192\n",
            "[1200]\ttraining's binary_logloss: 0.214292\ttraining's auc: 0.850449\tvalid_1's binary_logloss: 0.239727\tvalid_1's auc: 0.777933\n",
            "[1400]\ttraining's binary_logloss: 0.210791\ttraining's auc: 0.859133\tvalid_1's binary_logloss: 0.239709\tvalid_1's auc: 0.778071\n",
            "[1600]\ttraining's binary_logloss: 0.207473\ttraining's auc: 0.86693\tvalid_1's binary_logloss: 0.239669\tvalid_1's auc: 0.778204\n",
            "[1800]\ttraining's binary_logloss: 0.204297\ttraining's auc: 0.874279\tvalid_1's binary_logloss: 0.239688\tvalid_1's auc: 0.778153\n",
            "Early stopping, best iteration is:\n",
            "[1654]\ttraining's binary_logloss: 0.206554\ttraining's auc: 0.869083\tvalid_1's binary_logloss: 0.239658\tvalid_1's auc: 0.778247\n",
            "Fold  1 AUC : 0.778247\n",
            "Training until validation scores don't improve for 200 rounds.\n",
            "[200]\ttraining's binary_logloss: 0.239005\ttraining's auc: 0.782931\tvalid_1's binary_logloss: 0.246834\tvalid_1's auc: 0.756594\n",
            "[400]\ttraining's binary_logloss: 0.231269\ttraining's auc: 0.804258\tvalid_1's binary_logloss: 0.244093\tvalid_1's auc: 0.765192\n",
            "[600]\ttraining's binary_logloss: 0.225703\ttraining's auc: 0.820097\tvalid_1's binary_logloss: 0.242861\tvalid_1's auc: 0.769215\n",
            "[800]\ttraining's binary_logloss: 0.221345\ttraining's auc: 0.832021\tvalid_1's binary_logloss: 0.242312\tvalid_1's auc: 0.771041\n",
            "[1000]\ttraining's binary_logloss: 0.217505\ttraining's auc: 0.842214\tvalid_1's binary_logloss: 0.24212\tvalid_1's auc: 0.771616\n",
            "[1200]\ttraining's binary_logloss: 0.213788\ttraining's auc: 0.851724\tvalid_1's binary_logloss: 0.242038\tvalid_1's auc: 0.771873\n",
            "[1400]\ttraining's binary_logloss: 0.210181\ttraining's auc: 0.860617\tvalid_1's binary_logloss: 0.241977\tvalid_1's auc: 0.772089\n",
            "Early stopping, best iteration is:\n",
            "[1392]\ttraining's binary_logloss: 0.210302\ttraining's auc: 0.860339\tvalid_1's binary_logloss: 0.241969\tvalid_1's auc: 0.772107\n",
            "Fold  2 AUC : 0.772107\n",
            "Training until validation scores don't improve for 200 rounds.\n",
            "[200]\ttraining's binary_logloss: 0.239067\ttraining's auc: 0.782535\tvalid_1's binary_logloss: 0.245782\tvalid_1's auc: 0.761295\n",
            "[400]\ttraining's binary_logloss: 0.231131\ttraining's auc: 0.804251\tvalid_1's binary_logloss: 0.243032\tvalid_1's auc: 0.769678\n",
            "[600]\ttraining's binary_logloss: 0.225755\ttraining's auc: 0.81929\tvalid_1's binary_logloss: 0.242114\tvalid_1's auc: 0.772635\n",
            "[800]\ttraining's binary_logloss: 0.221397\ttraining's auc: 0.831265\tvalid_1's binary_logloss: 0.241683\tvalid_1's auc: 0.773913\n",
            "[1000]\ttraining's binary_logloss: 0.217587\ttraining's auc: 0.841382\tvalid_1's binary_logloss: 0.241555\tvalid_1's auc: 0.774397\n",
            "[1200]\ttraining's binary_logloss: 0.213862\ttraining's auc: 0.850853\tvalid_1's binary_logloss: 0.241515\tvalid_1's auc: 0.774561\n",
            "[1400]\ttraining's binary_logloss: 0.210413\ttraining's auc: 0.859356\tvalid_1's binary_logloss: 0.241588\tvalid_1's auc: 0.774374\n",
            "Early stopping, best iteration is:\n",
            "[1214]\ttraining's binary_logloss: 0.213629\ttraining's auc: 0.851424\tvalid_1's binary_logloss: 0.241499\tvalid_1's auc: 0.774607\n",
            "Fold  3 AUC : 0.774607\n",
            "Training until validation scores don't improve for 200 rounds.\n",
            "[200]\ttraining's binary_logloss: 0.239908\ttraining's auc: 0.779882\tvalid_1's binary_logloss: 0.243504\tvalid_1's auc: 0.770152\n",
            "[400]\ttraining's binary_logloss: 0.23212\ttraining's auc: 0.80197\tvalid_1's binary_logloss: 0.240371\tvalid_1's auc: 0.778603\n",
            "[600]\ttraining's binary_logloss: 0.226671\ttraining's auc: 0.817393\tvalid_1's binary_logloss: 0.239172\tvalid_1's auc: 0.782063\n",
            "[800]\ttraining's binary_logloss: 0.22217\ttraining's auc: 0.82987\tvalid_1's binary_logloss: 0.238685\tvalid_1's auc: 0.783424\n",
            "[1000]\ttraining's binary_logloss: 0.218147\ttraining's auc: 0.840795\tvalid_1's binary_logloss: 0.238479\tvalid_1's auc: 0.783959\n",
            "[1200]\ttraining's binary_logloss: 0.214512\ttraining's auc: 0.85013\tvalid_1's binary_logloss: 0.238346\tvalid_1's auc: 0.784279\n",
            "[1400]\ttraining's binary_logloss: 0.211032\ttraining's auc: 0.858787\tvalid_1's binary_logloss: 0.238219\tvalid_1's auc: 0.784469\n",
            "[1600]\ttraining's binary_logloss: 0.207733\ttraining's auc: 0.866781\tvalid_1's binary_logloss: 0.238272\tvalid_1's auc: 0.784162\n",
            "Early stopping, best iteration is:\n",
            "[1410]\ttraining's binary_logloss: 0.210862\ttraining's auc: 0.859203\tvalid_1's binary_logloss: 0.238213\tvalid_1's auc: 0.784511\n",
            "Fold  4 AUC : 0.784511\n",
            "Training until validation scores don't improve for 200 rounds.\n",
            "[200]\ttraining's binary_logloss: 0.239169\ttraining's auc: 0.782699\tvalid_1's binary_logloss: 0.245924\tvalid_1's auc: 0.759806\n",
            "[400]\ttraining's binary_logloss: 0.231458\ttraining's auc: 0.803805\tvalid_1's binary_logloss: 0.243201\tvalid_1's auc: 0.767842\n",
            "[600]\ttraining's binary_logloss: 0.226017\ttraining's auc: 0.818927\tvalid_1's binary_logloss: 0.242188\tvalid_1's auc: 0.771166\n",
            "[800]\ttraining's binary_logloss: 0.221799\ttraining's auc: 0.830364\tvalid_1's binary_logloss: 0.241824\tvalid_1's auc: 0.772423\n",
            "[1000]\ttraining's binary_logloss: 0.217703\ttraining's auc: 0.841001\tvalid_1's binary_logloss: 0.241615\tvalid_1's auc: 0.773179\n",
            "[1200]\ttraining's binary_logloss: 0.21398\ttraining's auc: 0.850415\tvalid_1's binary_logloss: 0.241564\tvalid_1's auc: 0.773302\n",
            "[1400]\ttraining's binary_logloss: 0.210442\ttraining's auc: 0.859303\tvalid_1's binary_logloss: 0.241578\tvalid_1's auc: 0.773369\n",
            "Early stopping, best iteration is:\n",
            "[1247]\ttraining's binary_logloss: 0.213096\ttraining's auc: 0.85266\tvalid_1's binary_logloss: 0.241551\tvalid_1's auc: 0.773394\n",
            "Fold  5 AUC : 0.773394\n",
            "Full AUC score 0.776555\n"
          ]
        },
        {
          "output_type": "error",
          "ename": "NameError",
          "evalue": "ignored",
          "traceback": [
            "\u001b[0;31m---------------------------------------------------------------------------\u001b[0m",
            "\u001b[0;31mNameError\u001b[0m                                 Traceback (most recent call last)",
            "\u001b[0;32m<ipython-input-8-3bdd34273e79>\u001b[0m in \u001b[0;36m<module>\u001b[0;34m\u001b[0m\n\u001b[0;32m----> 1\u001b[0;31m \u001b[0mfeat_importance\u001b[0m \u001b[0;34m=\u001b[0m \u001b[0mkfold_lightgbm\u001b[0m\u001b[0;34m(\u001b[0m\u001b[0mdf\u001b[0m\u001b[0;34m,\u001b[0m \u001b[0mnum_folds\u001b[0m\u001b[0;34m=\u001b[0m \u001b[0;36m5\u001b[0m\u001b[0;34m,\u001b[0m \u001b[0mstratified\u001b[0m\u001b[0;34m=\u001b[0m \u001b[0;32mTrue\u001b[0m\u001b[0;34m)\u001b[0m\u001b[0;34m\u001b[0m\u001b[0;34m\u001b[0m\u001b[0m\n\u001b[0m",
            "\u001b[0;32m<ipython-input-7-8769db3c6201>\u001b[0m in \u001b[0;36mkfold_lightgbm\u001b[0;34m(***failed resolving arguments***)\u001b[0m\n\u001b[1;32m     54\u001b[0m \u001b[0;34m\u001b[0m\u001b[0m\n\u001b[1;32m     55\u001b[0m     \u001b[0mprint\u001b[0m\u001b[0;34m(\u001b[0m\u001b[0;34m'Full AUC score %.6f'\u001b[0m \u001b[0;34m%\u001b[0m \u001b[0mroc_auc_score\u001b[0m\u001b[0;34m(\u001b[0m\u001b[0mtrain_df\u001b[0m\u001b[0;34m[\u001b[0m\u001b[0;34m'TARGET'\u001b[0m\u001b[0;34m]\u001b[0m\u001b[0;34m,\u001b[0m \u001b[0moof_preds\u001b[0m\u001b[0;34m)\u001b[0m\u001b[0;34m)\u001b[0m\u001b[0;34m\u001b[0m\u001b[0;34m\u001b[0m\u001b[0m\n\u001b[0;32m---> 56\u001b[0;31m     \u001b[0mdisplay_importances\u001b[0m\u001b[0;34m(\u001b[0m\u001b[0mfeature_importance_df\u001b[0m\u001b[0;34m)\u001b[0m\u001b[0;34m\u001b[0m\u001b[0;34m\u001b[0m\u001b[0m\n\u001b[0m\u001b[1;32m     57\u001b[0m     \u001b[0;32mreturn\u001b[0m \u001b[0mfeature_importance_df\u001b[0m\u001b[0;34m\u001b[0m\u001b[0;34m\u001b[0m\u001b[0m\n\u001b[1;32m     58\u001b[0m \u001b[0;34m\u001b[0m\u001b[0m\n",
            "\u001b[0;32m<ipython-input-7-8769db3c6201>\u001b[0m in \u001b[0;36mdisplay_importances\u001b[0;34m(feature_importance_df_)\u001b[0m\n\u001b[1;32m     61\u001b[0m     \u001b[0mcols\u001b[0m \u001b[0;34m=\u001b[0m \u001b[0mfeature_importance_df_\u001b[0m\u001b[0;34m[\u001b[0m\u001b[0;34m[\u001b[0m\u001b[0;34m\"feature\"\u001b[0m\u001b[0;34m,\u001b[0m \u001b[0;34m\"importance\"\u001b[0m\u001b[0;34m]\u001b[0m\u001b[0;34m]\u001b[0m\u001b[0;34m.\u001b[0m\u001b[0mgroupby\u001b[0m\u001b[0;34m(\u001b[0m\u001b[0;34m\"feature\"\u001b[0m\u001b[0;34m)\u001b[0m\u001b[0;34m.\u001b[0m\u001b[0mmean\u001b[0m\u001b[0;34m(\u001b[0m\u001b[0;34m)\u001b[0m\u001b[0;34m.\u001b[0m\u001b[0msort_values\u001b[0m\u001b[0;34m(\u001b[0m\u001b[0mby\u001b[0m\u001b[0;34m=\u001b[0m\u001b[0;34m\"importance\"\u001b[0m\u001b[0;34m,\u001b[0m \u001b[0mascending\u001b[0m\u001b[0;34m=\u001b[0m\u001b[0;32mFalse\u001b[0m\u001b[0;34m)\u001b[0m\u001b[0;34m[\u001b[0m\u001b[0;34m:\u001b[0m\u001b[0;36m40\u001b[0m\u001b[0;34m]\u001b[0m\u001b[0;34m.\u001b[0m\u001b[0mindex\u001b[0m\u001b[0;34m\u001b[0m\u001b[0;34m\u001b[0m\u001b[0m\n\u001b[1;32m     62\u001b[0m     \u001b[0mbest_features\u001b[0m \u001b[0;34m=\u001b[0m \u001b[0mfeature_importance_df_\u001b[0m\u001b[0;34m.\u001b[0m\u001b[0mloc\u001b[0m\u001b[0;34m[\u001b[0m\u001b[0mfeature_importance_df_\u001b[0m\u001b[0;34m.\u001b[0m\u001b[0mfeature\u001b[0m\u001b[0;34m.\u001b[0m\u001b[0misin\u001b[0m\u001b[0;34m(\u001b[0m\u001b[0mcols\u001b[0m\u001b[0;34m)\u001b[0m\u001b[0;34m]\u001b[0m\u001b[0;34m\u001b[0m\u001b[0;34m\u001b[0m\u001b[0m\n\u001b[0;32m---> 63\u001b[0;31m     \u001b[0mplt\u001b[0m\u001b[0;34m.\u001b[0m\u001b[0mfigure\u001b[0m\u001b[0;34m(\u001b[0m\u001b[0mfigsize\u001b[0m\u001b[0;34m=\u001b[0m\u001b[0;34m(\u001b[0m\u001b[0;36m8\u001b[0m\u001b[0;34m,\u001b[0m \u001b[0;36m10\u001b[0m\u001b[0;34m)\u001b[0m\u001b[0;34m)\u001b[0m\u001b[0;34m\u001b[0m\u001b[0;34m\u001b[0m\u001b[0m\n\u001b[0m\u001b[1;32m     64\u001b[0m     \u001b[0msns\u001b[0m\u001b[0;34m.\u001b[0m\u001b[0mbarplot\u001b[0m\u001b[0;34m(\u001b[0m\u001b[0mx\u001b[0m\u001b[0;34m=\u001b[0m\u001b[0;34m\"importance\"\u001b[0m\u001b[0;34m,\u001b[0m \u001b[0my\u001b[0m\u001b[0;34m=\u001b[0m\u001b[0;34m\"feature\"\u001b[0m\u001b[0;34m,\u001b[0m \u001b[0mdata\u001b[0m\u001b[0;34m=\u001b[0m\u001b[0mbest_features\u001b[0m\u001b[0;34m.\u001b[0m\u001b[0msort_values\u001b[0m\u001b[0;34m(\u001b[0m\u001b[0mby\u001b[0m\u001b[0;34m=\u001b[0m\u001b[0;34m\"importance\"\u001b[0m\u001b[0;34m,\u001b[0m \u001b[0mascending\u001b[0m\u001b[0;34m=\u001b[0m\u001b[0;32mFalse\u001b[0m\u001b[0;34m)\u001b[0m\u001b[0;34m)\u001b[0m\u001b[0;34m\u001b[0m\u001b[0;34m\u001b[0m\u001b[0m\n\u001b[1;32m     65\u001b[0m     \u001b[0mplt\u001b[0m\u001b[0;34m.\u001b[0m\u001b[0mtitle\u001b[0m\u001b[0;34m(\u001b[0m\u001b[0;34m'LightGBM Features (avg over folds)'\u001b[0m\u001b[0;34m)\u001b[0m\u001b[0;34m\u001b[0m\u001b[0;34m\u001b[0m\u001b[0m\n",
            "\u001b[0;31mNameError\u001b[0m: name 'plt' is not defined"
          ]
        }
      ]
    },
    {
      "cell_type": "code",
      "source": [
        "feat_importance"
      ],
      "metadata": {
        "id": "7VZi-PzeM259"
      },
      "execution_count": null,
      "outputs": []
    },
    {
      "cell_type": "markdown",
      "source": [
        "## **Model Tuning** "
      ],
      "metadata": {
        "id": "w4rChZGFR6kU"
      }
    },
    {
      "cell_type": "code",
      "source": [],
      "metadata": {
        "id": "WisOXabhR8TD"
      },
      "execution_count": null,
      "outputs": []
    },
    {
      "cell_type": "code",
      "source": [],
      "metadata": {
        "id": "DnXRBLX3R8Yb"
      },
      "execution_count": null,
      "outputs": []
    },
    {
      "cell_type": "code",
      "source": [],
      "metadata": {
        "id": "fju7w8wvSJw8"
      },
      "execution_count": null,
      "outputs": []
    },
    {
      "cell_type": "markdown",
      "source": [
        "## **Model Saving** "
      ],
      "metadata": {
        "id": "cDJsTISOSKME"
      }
    },
    {
      "cell_type": "code",
      "source": [
        "pickle.dump(model_1, open('/content/gdrive/MyDrive/Home_Credit_Default_Risk/clf.pkl', 'wb'))"
      ],
      "metadata": {
        "id": "7lgL0hwFSKY0"
      },
      "execution_count": null,
      "outputs": []
    },
    {
      "cell_type": "markdown",
      "source": [
        "## **Testing Data Preprocessing** "
      ],
      "metadata": {
        "id": "9MKRPXKZJWHE"
      }
    },
    {
      "cell_type": "code",
      "source": [],
      "metadata": {
        "id": "q1AbVQfmJWTc"
      },
      "execution_count": null,
      "outputs": []
    },
    {
      "cell_type": "markdown",
      "source": [
        "## **Inference**"
      ],
      "metadata": {
        "id": "9XGdf8UJdHtP"
      }
    },
    {
      "cell_type": "code",
      "source": [
        "pickled_model_1 = pickle.load(open('/content/gdrive/MyDrive/Home_Credit_Default_Risk/model_1.pkl', 'rb'))"
      ],
      "metadata": {
        "id": "GXW_OTzIdKEm"
      },
      "execution_count": null,
      "outputs": []
    },
    {
      "cell_type": "code",
      "source": [
        "pickled_model_1.predict(X_test)"
      ],
      "metadata": {
        "id": "K2mjlLoXdK4m"
      },
      "execution_count": null,
      "outputs": []
    },
    {
      "cell_type": "markdown",
      "source": [
        "## **Insights and Final Thoughts** "
      ],
      "metadata": {
        "id": "UtSsOIsDSADM"
      }
    },
    {
      "cell_type": "markdown",
      "source": [],
      "metadata": {
        "id": "7BIyAI5qSgNN"
      }
    },
    {
      "cell_type": "markdown",
      "source": [
        "## **Future Work** "
      ],
      "metadata": {
        "id": "EBxndE2gSGlM"
      }
    },
    {
      "cell_type": "markdown",
      "source": [],
      "metadata": {
        "id": "kxgW1FAhSZjk"
      }
    },
    {
      "cell_type": "markdown",
      "source": [
        "## **References**"
      ],
      "metadata": {
        "id": "nVISYoo8SoUc"
      }
    },
    {
      "cell_type": "markdown",
      "source": [
        "[1] M. Qamruzzaman and W. Jianguo, “Financial\n",
        "innovation and economic growth in Bangladesh,”\n",
        "Financ. Innov., 2017, doi: 10.1186/s408540-0070-017-.\n",
        "\n",
        "[2] F. D. I. Corporation, “2017 FDIC national survey\n",
        "of unbanked and underbanked households.” Federal\n",
        "Deposit Insurance Corporation Washington, DC, 2018.\n",
        "\n",
        "[3] M. Alam, “Risk prediction of loan default using\n",
        "knowledge graph,” 2022.\n",
        "\n",
        "[4] J. P. Simon, “Artificial intelligence: scope, players,\n",
        "markets and geography,” Digit. Policy, Regul. Gov. ,2019, doi: 10.1108/DPRG-080039-2018-.\n",
        "\n",
        "[5] C. Janiesch, P. Zschech, and K. Heinrich, “Machine\n",
        "learning and deep learning,” Electron. Mark., 2021, doi:\n",
        "10.1007/s125252-00475-021-.\n",
        "\n",
        "[6] U. Kose, “Using artificial intelligence techniques\n",
        "for economic time series prediction,” in Contemporary\n",
        "Studies in Economic and Financial Analysis, 2019. doi:\n",
        "10.1108/S1569375920190000101002-.\n",
        "\n",
        "[7] K. Mungai and A. Bayat, “The impact of big data on\n",
        "the South African banking industry,” 2018.\n",
        "\n",
        "[8] V. Dhar, “Data science and prediction,” Commun.\n",
        "ACM, 2013, doi: 10.11452500499/.\n",
        "\n",
        "[9] A. Nabil, “Data Science in FinTech: credit risk\n",
        "prediction using Deep Learning,” ETSI_Informatica,\n",
        "2020.\n",
        "\n",
        "[10] Home Credit Group, “Home Credit Default Risk\n",
        "DataSet,” Kaggle, 2018.\n",
        "\n",
        "[11] P. Beck, “Predicting Loan Default Likelihood Using\n",
        "Machine Learning,” 2021.\n",
        "\n",
        "[12] Y. E. Gundogmus, M. Nuhuz, and M. Tez, “Riskbased\n",
        "Fraud Analysis for Bank Loans with Autonomous\n",
        "Machine Learning,” in y-BIS 2019 Conference Book:\n",
        "Recent Advances n Data Sc ence and Bus ness Analyt\n",
        "cs, 2019, p. 143.\n",
        "\n",
        "[13] X. Chen, X. Liu, Z. Liu, P. Song, and M. Zhong,\n",
        "“A deep learning approach using DeepGBM for credit\n",
        "assessment,” 2019. doi: 10.11453366194.3366333/.\n",
        "\n",
        "[14] Dall›asta Rigo, Elif Yağmur. Evaluation of stacking\n",
        "for predicting credit risk scores. Diss. Applied Data\n",
        "Science, 2020.\n",
        "\n",
        "[15] Y. Tounsi, H. Anoun, and L. Hassouni, “CSMAS:\n",
        "Improving Multi-Agent Credit Scoring System\n",
        "by Integrating Big Data and the new generation\n",
        "of Gradient Boosting Algorithms,” 2020. doi:\n",
        "10.11453386723.3387851/.\n",
        "\n",
        "[16] G. Ke et al., “LightGBM: A highly efficient gradient\n",
        "boosting decision tree,” 2017.\n",
        "\n",
        "[17] C. Egan, “Improving Credit Default Prediction\n",
        "Using Explainable AI,” Dublin, National College of\n",
        "Ireland, 2021.\n",
        "\n",
        "[18] Rodríguez P, Bautista MA, Gonzalez J, Escalera\n",
        "S. Beyond one-hot encoding: Lower dimensional target\n",
        "embedding. Image and Vision Computing. 2018 Jul\n",
        "1;75:2131-.\n",
        "\n",
        "[19] Boubiche S, Boubiche DE, Bilami A, Toral-Cruz H.\n",
        "Big data challenges and data aggregation strategies\n",
        "in wireless sensor networks. IEEE access. 2018 May\n",
        "3;6:2055871-.\n",
        "\n",
        "[20] Fushiki T. Estimation of prediction error by using\n",
        "K-fold cross-validation. Statistics and Computing.\n",
        "2011 Apr;21(2):13746-.\n",
        "\n",
        "https://www.kaggle.com/competitions/home-credit-default-risk/code \n",
        "\n",
        "https://www.kaggle.com/competitions/home-credit-default-risk/overview\n",
        "\n",
        "https://www.kaggle.com/competitions/home-credit-default-risk/data\n",
        "\n",
        "https://www.kaggle.com/rinnqd/reduce-memory-usage\n",
        "\n",
        "https://academic.oup.com/bioinformatics/article/26/10/1340/193348\n",
        "\n",
        "https://www.kaggle.com/tilii7/olivier-lightgbm-parameters-by-bayesian-opt/code"
      ],
      "metadata": {
        "id": "8pvUr6z0Sw0N"
      }
    }
  ]
}